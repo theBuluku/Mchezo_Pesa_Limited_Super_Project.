{
  "nbformat": 4,
  "nbformat_minor": 0,
  "metadata": {
    "colab": {
      "name": "Mchezo_Pesa_Limited_Project.",
      "provenance": [],
      "private_outputs": true,
      "collapsed_sections": [],
      "toc_visible": true,
      "include_colab_link": true
    },
    "kernelspec": {
      "name": "python3",
      "display_name": "Python 3"
    }
  },
  "cells": [
    {
      "cell_type": "markdown",
      "metadata": {
        "id": "view-in-github",
        "colab_type": "text"
      },
      "source": [
        "<a href=\"https://colab.research.google.com/github/theBuluku/Mchezo_Pesa_Limited_Super_Project./blob/master/Mchezo_Pesa_Limited_Project_.ipynb\" target=\"_parent\"><img src=\"https://colab.research.google.com/assets/colab-badge.svg\" alt=\"Open In Colab\"/></a>"
      ]
    },
    {
      "cell_type": "code",
      "metadata": {
        "id": "ins3Jbyly8aX",
        "colab_type": "code",
        "colab": {}
      },
      "source": [
        "# Importing libraries.\n",
        "\n",
        "import pandas as pd\n",
        "import numpy as np\n",
        "import matplotlib.pyplot as plt\n",
        "%matplotlib inline\n",
        "import seaborn as sns\n",
        "from scipy.stats import chi2,bartlett\n",
        "from sklearn.preprocessing import StandardScaler,PolynomialFeatures,LabelEncoder,OneHotEncoder\n",
        "from sklearn.model_selection import train_test_split,GridSearchCV,RandomizedSearchCV,KFold,StratifiedKFold,cross_val_score\n",
        "from sklearn.linear_model import LogisticRegression,LinearRegression\n",
        "from sklearn.metrics import mean_squared_error,r2_score,accuracy_score,f1_score,classificatio"
      ],
      "execution_count": 0,
      "outputs": []
    },
    {
      "cell_type": "markdown",
      "metadata": {
        "id": "7-9c14TszO8f",
        "colab_type": "text"
      },
      "source": [
        "# PROBLEM STATEMENT.\n"
      ]
    },
    {
      "cell_type": "markdown",
      "metadata": {
        "id": "4IWbI70azZtz",
        "colab_type": "text"
      },
      "source": [
        "A Prediction result of a game between team 1 and team 2, based on who's home and who's away, and on whether or not the game is friendly (include rank in your training)."
      ]
    },
    {
      "cell_type": "markdown",
      "metadata": {
        "id": "jQkKsfuizbnv",
        "colab_type": "text"
      },
      "source": [
        "#Hypothesis"
      ]
    },
    {
      "cell_type": "markdown",
      "metadata": {
        "id": "gkv8_b6ozhtl",
        "colab_type": "text"
      },
      "source": [
        "#Metrics of success."
      ]
    },
    {
      "cell_type": "code",
      "metadata": {
        "id": "ru0jTaFezHsF",
        "colab_type": "code",
        "colab": {}
      },
      "source": [
        "# Importing libraries.\n",
        "\n",
        "import pandas as pd\n",
        "import numpy as np\n",
        "import matplotlib.pyplot as plt\n",
        "%matplotlib inline\n",
        "import seaborn as sns\n",
        "from scipy.stats import chi2,bartlett\n",
        "from sklearn.preprocessing import StandardScaler,PolynomialFeatures,LabelEncoder,OneHotEncoder\n",
        "from sklearn.model_selection import train_test_split,GridSearchCV,RandomizedSearchCV,KFold,StratifiedKFold,cross_val_score\n",
        "from sklearn.linear_model import LogisticRegression,LinearRegression\n",
        "from sklearn.metrics import mean_squared_error,r2_score,accuracy_score,f1_score,classification_report,confusion_matrix\n",
        "from sklearn.decomposition import PCA\n",
        "from sklearn.ensemble import RandomForestClassifier\n",
        "from sklearn.naive_bayes import GaussianNB\n",
        "from sklearn.svm import SVC\n",
        "import warnings\n",
        "warnings.filterwarnings('ignore')"
      ],
      "execution_count": 0,
      "outputs": []
    },
    {
      "cell_type": "markdown",
      "metadata": {
        "id": "w9S8GAZqyeEX",
        "colab_type": "text"
      },
      "source": [
        "#Exploratory Data Analysis."
      ]
    },
    {
      "cell_type": "code",
      "metadata": {
        "id": "YzEORn6mJ7_r",
        "colab_type": "code",
        "colab": {}
      },
      "source": [
        "rankings=pd.read_csv('fifa_ranking.csv')"
      ],
      "execution_count": 0,
      "outputs": []
    },
    {
      "cell_type": "code",
      "metadata": {
        "id": "bvp0J_OKKlUm",
        "colab_type": "code",
        "colab": {}
      },
      "source": [
        "results=pd.read_csv('results.csv')"
      ],
      "execution_count": 0,
      "outputs": []
    },
    {
      "cell_type": "code",
      "metadata": {
        "id": "ICs4Ih00K0RN",
        "colab_type": "code",
        "colab": {}
      },
      "source": [
        "rankings.head(6)"
      ],
      "execution_count": 0,
      "outputs": []
    },
    {
      "cell_type": "code",
      "metadata": {
        "id": "87aLe9WfK6E2",
        "colab_type": "code",
        "colab": {}
      },
      "source": [
        "results.head(6)"
      ],
      "execution_count": 0,
      "outputs": []
    },
    {
      "cell_type": "markdown",
      "metadata": {
        "id": "FZScC_kg7Hy8",
        "colab_type": "text"
      },
      "source": [
        "# Data statistics"
      ]
    },
    {
      "cell_type": "code",
      "metadata": {
        "id": "tsURdMAd7gQy",
        "colab_type": "code",
        "colab": {}
      },
      "source": [
        "#Provides basic statistics for the attributes-e,g counts percentiles,\n",
        "#mean,standard deviation\n",
        "results.describe()"
      ],
      "execution_count": 0,
      "outputs": []
    },
    {
      "cell_type": "code",
      "metadata": {
        "id": "0eJrbLCa8wpl",
        "colab_type": "code",
        "colab": {}
      },
      "source": [
        "rankings.describe()"
      ],
      "execution_count": 0,
      "outputs": []
    },
    {
      "cell_type": "code",
      "metadata": {
        "id": "vLb6BGsU9nfV",
        "colab_type": "code",
        "colab": {}
      },
      "source": [
        "#I found out the total number of rows and columns in the data set using “.shape”.\n",
        "rankings.shape"
      ],
      "execution_count": 0,
      "outputs": []
    },
    {
      "cell_type": "code",
      "metadata": {
        "id": "8_kFybqE-C5E",
        "colab_type": "code",
        "colab": {}
      },
      "source": [
        "results.shape"
      ],
      "execution_count": 0,
      "outputs": []
    },
    {
      "cell_type": "code",
      "metadata": {
        "id": "x_3uSq0G-bMp",
        "colab_type": "code",
        "colab": {}
      },
      "source": [
        "#It is also a good practice to know the columns and their corresponding data types,along with finding whether they contain null values or not.\n",
        "rankings.info()"
      ],
      "execution_count": 0,
      "outputs": []
    },
    {
      "cell_type": "code",
      "metadata": {
        "id": "DHt2TseQ-qUF",
        "colab_type": "code",
        "colab": {}
      },
      "source": [
        "results.info()"
      ],
      "execution_count": 0,
      "outputs": []
    },
    {
      "cell_type": "code",
      "metadata": {
        "id": "MqMz_kR4Llc1",
        "colab_type": "code",
        "colab": {}
      },
      "source": [
        "rankings.columns"
      ],
      "execution_count": 0,
      "outputs": []
    },
    {
      "cell_type": "code",
      "metadata": {
        "id": "IoRQsf5VLbw-",
        "colab_type": "code",
        "colab": {}
      },
      "source": [
        "results.columns"
      ],
      "execution_count": 0,
      "outputs": []
    },
    {
      "cell_type": "code",
      "metadata": {
        "id": "vfUkdMpZyNqz",
        "colab_type": "code",
        "colab": {}
      },
      "source": [
        "# Checking for null values in the rank dataset\n",
        "\n",
        "rankings.isnull().sum().any()"
      ],
      "execution_count": 0,
      "outputs": []
    },
    {
      "cell_type": "code",
      "metadata": {
        "id": "Rqt1ooJ4Arf1",
        "colab_type": "code",
        "colab": {}
      },
      "source": [
        "# Checking for null values in the rank dataset\n",
        "\n",
        "results.isnull().sum().any()"
      ],
      "execution_count": 0,
      "outputs": []
    },
    {
      "cell_type": "code",
      "metadata": {
        "id": "2wy0bScNBXjI",
        "colab_type": "code",
        "colab": {}
      },
      "source": [
        "# Checking for duplicates\n",
        "rankings.duplicated().any()"
      ],
      "execution_count": 0,
      "outputs": []
    },
    {
      "cell_type": "code",
      "metadata": {
        "id": "1vw_F6D2BeNi",
        "colab_type": "code",
        "colab": {}
      },
      "source": [
        "# Checking for duplicates\n",
        "results.duplicated().any()"
      ],
      "execution_count": 0,
      "outputs": []
    },
    {
      "cell_type": "code",
      "metadata": {
        "id": "bI9mMAr1Budf",
        "colab_type": "code",
        "colab": {}
      },
      "source": [
        "# Droping duplicates\n",
        "rankings.drop_duplicates(keep ='first',inplace=True)\n",
        "\n",
        "# Checking for duplicates whether they have actually been dropped\n",
        "rankings.duplicated().any()"
      ],
      "execution_count": 0,
      "outputs": []
    },
    {
      "cell_type": "code",
      "metadata": {
        "id": "SBOAXwt1CE-x",
        "colab_type": "code",
        "colab": {}
      },
      "source": [
        "# Getting the number of unique countries in the rank datasets\n",
        "\n",
        "uniq_country = rankings.country_full.unique()\n",
        "len(uniq_country)"
      ],
      "execution_count": 0,
      "outputs": []
    },
    {
      "cell_type": "code",
      "metadata": {
        "id": "jRgaXfihCUKl",
        "colab_type": "code",
        "colab": {}
      },
      "source": [
        "# Getting the number of unique dates in the rank datasets\n",
        "\n",
        "uniq_dates = rankings.rank_date.unique()\n",
        "len(uniq_dates)"
      ],
      "execution_count": 0,
      "outputs": []
    },
    {
      "cell_type": "code",
      "metadata": {
        "id": "bTj7qHtECkgq",
        "colab_type": "code",
        "colab": {}
      },
      "source": [
        "# Getting the number of unique dates in the rank datasets\n",
        "\n",
        "uniq_dates = results.date.unique()\n",
        "len(uniq_dates)"
      ],
      "execution_count": 0,
      "outputs": []
    },
    {
      "cell_type": "code",
      "metadata": {
        "id": "UrsYenakHLbm",
        "colab_type": "code",
        "colab": {}
      },
      "source": [
        "# Getting the number of unique dates in the rank datasets\n",
        "\n",
        "uniq_dates = rankings.rank_date.unique()\n",
        "len(uniq_dates)"
      ],
      "execution_count": 0,
      "outputs": []
    },
    {
      "cell_type": "markdown",
      "metadata": {
        "id": "MxI-GIjNDcR8",
        "colab_type": "text"
      },
      "source": [
        "#Combination of the Two Datasets."
      ]
    },
    {
      "cell_type": "code",
      "metadata": {
        "id": "gvnuveNwDkg1",
        "colab_type": "code",
        "colab": {}
      },
      "source": [
        "# Checking unique dates that are common in both datasets\n",
        "\n",
        "list1 = []\n",
        "\n",
        "uniq_dates  = list(uniq_dates)\n",
        "uniq_date_results = list(uniq_date_results)\n",
        "\n",
        "for x in uniq_dates:\n",
        "  if x in uniq_date_results:\n",
        "    list1.append(x)\n",
        "print(list1)\n",
        "print(len(list1))"
      ],
      "execution_count": 0,
      "outputs": []
    },
    {
      "cell_type": "code",
      "metadata": {
        "id": "jfh7LVP3EPQ6",
        "colab_type": "code",
        "colab": {}
      },
      "source": [
        "# Renaming the two columns for easier merging with the results datsets\n",
        "\n",
        "rankings.rename(columns = {\"country_full\":\"country\",\"rank_date\":\"date\"},inplace=True)\n",
        "rankings.columns"
      ],
      "execution_count": 0,
      "outputs": []
    },
    {
      "cell_type": "code",
      "metadata": {
        "id": "ZJQoUxh5EZVF",
        "colab_type": "code",
        "colab": {}
      },
      "source": [
        "# Merging the datasets using both the dates and country columns\n",
        "\n",
        "fifa_df=pd.merge(rankings,results,on = [\"date\",\"country\"])\n",
        "\n",
        "# Previewing the merged dataset\n",
        "fifa_df.head()\n",
        " "
      ],
      "execution_count": 0,
      "outputs": []
    },
    {
      "cell_type": "code",
      "metadata": {
        "id": "p4lNOtWIHgEI",
        "colab_type": "code",
        "colab": {}
      },
      "source": [
        "# Getting the statistical information of the merged dataset\n",
        "fifa_df.describe()"
      ],
      "execution_count": 0,
      "outputs": []
    },
    {
      "cell_type": "code",
      "metadata": {
        "id": "BoPXrPrMH6qb",
        "colab_type": "code",
        "colab": {}
      },
      "source": [
        "# Getting the names of the columns in the merged dataset\n",
        "\n",
        "fifa_df.columns"
      ],
      "execution_count": 0,
      "outputs": []
    },
    {
      "cell_type": "markdown",
      "metadata": {
        "id": "6XkzSA7ZIOhy",
        "colab_type": "text"
      },
      "source": [
        "# Checking for Outliers."
      ]
    },
    {
      "cell_type": "code",
      "metadata": {
        "id": "sKmGepfLIVTo",
        "colab_type": "code",
        "colab": {}
      },
      "source": [
        "# checking for outlers\n",
        "fifa_df['away_score'].plot(kind = 'box')"
      ],
      "execution_count": 0,
      "outputs": []
    },
    {
      "cell_type": "code",
      "metadata": {
        "id": "_y31ZJN6I1Wu",
        "colab_type": "code",
        "colab": {}
      },
      "source": [
        "# checking for outlers of homescore\n",
        "\n",
        "fifa_df['home_score'].plot(kind = 'box')"
      ],
      "execution_count": 0,
      "outputs": []
    },
    {
      "cell_type": "markdown",
      "metadata": {
        "id": "R62ztn0mJO9F",
        "colab_type": "text"
      },
      "source": [
        "#VISUALISATION."
      ]
    },
    {
      "cell_type": "code",
      "metadata": {
        "id": "XMJIzuFMJWln",
        "colab_type": "code",
        "colab": {}
      },
      "source": [
        ""
      ],
      "execution_count": 0,
      "outputs": []
    }
  ]
}