{
  "nbformat": 4,
  "nbformat_minor": 0,
  "metadata": {
    "colab": {
      "name": "Mchezo_Pesa_Limited_Project.",
      "provenance": [],
      "private_outputs": true,
      "toc_visible": true,
      "include_colab_link": true
    },
    "kernelspec": {
      "name": "python3",
      "display_name": "Python 3"
    }
  },
  "cells": [
    {
      "cell_type": "markdown",
      "metadata": {
        "id": "view-in-github",
        "colab_type": "text"
      },
      "source": [
        "<a href=\"https://colab.research.google.com/github/theBuluku/Mchezo_Pesa_Limited_Super_Project./blob/master/Mchezo_Pesa_Limited_Project_.ipynb\" target=\"_parent\"><img src=\"https://colab.research.google.com/assets/colab-badge.svg\" alt=\"Open In Colab\"/></a>"
      ]
    },
    {
      "cell_type": "code",
      "metadata": {
        "id": "ins3Jbyly8aX",
        "colab_type": "code",
        "colab": {}
      },
      "source": [
        "# Importing libraries.\n",
        "\n",
        "import pandas as pd\n",
        "import numpy as np\n",
        "import matplotlib.pyplot as plt\n",
        "%matplotlib inline\n",
        "import seaborn as sns\n",
        "from scipy.stats import chi2,bartlett\n",
        "from sklearn.preprocessing import StandardScaler,PolynomialFeatures,LabelEncoder,OneHotEncoder\n",
        "from sklearn.model_selection import train_test_split,GridSearchCV,RandomizedSearchCV,KFold,StratifiedKFold,cross_val_score\n",
        "from sklearn.linear_model import LogisticRegression,LinearRegression\n",
        "from sklearn.metrics import mean_squared_error,r2_score,accuracy_score,f1_score,classificatio"
      ],
      "execution_count": 0,
      "outputs": []
    },
    {
      "cell_type": "markdown",
      "metadata": {
        "id": "7-9c14TszO8f",
        "colab_type": "text"
      },
      "source": [
        "# PROBLEM STATEMENT.\n"
      ]
    },
    {
      "cell_type": "markdown",
      "metadata": {
        "id": "4IWbI70azZtz",
        "colab_type": "text"
      },
      "source": [
        "A Prediction result of a game between team 1 and team 2, based on who's home and who's away, and on whether or not the game is friendly (include rank in your training)."
      ]
    },
    {
      "cell_type": "markdown",
      "metadata": {
        "id": "jQkKsfuizbnv",
        "colab_type": "text"
      },
      "source": [
        "#Hypothesis"
      ]
    },
    {
      "cell_type": "markdown",
      "metadata": {
        "id": "gkv8_b6ozhtl",
        "colab_type": "text"
      },
      "source": [
        "#Metrics of success."
      ]
    },
    {
      "cell_type": "code",
      "metadata": {
        "id": "ru0jTaFezHsF",
        "colab_type": "code",
        "colab": {}
      },
      "source": [
        "# Importing libraries.\n",
        "\n",
        "import pandas as pd\n",
        "import numpy as np\n",
        "import matplotlib.pyplot as plt\n",
        "%matplotlib inline\n",
        "import seaborn as sns\n",
        "from scipy.stats import chi2,bartlett\n",
        "from sklearn.preprocessing import StandardScaler,PolynomialFeatures,LabelEncoder,OneHotEncoder\n",
        "from sklearn.model_selection import train_test_split,GridSearchCV,RandomizedSearchCV,KFold,StratifiedKFold,cross_val_score\n",
        "from sklearn.linear_model import LogisticRegression,LinearRegression\n",
        "from sklearn.metrics import mean_squared_error,r2_score,accuracy_score,f1_score,classification_report,confusion_matrix\n",
        "from sklearn.decomposition import PCA\n",
        "from sklearn.ensemble import RandomForestClassifier\n",
        "from sklearn.naive_bayes import GaussianNB\n",
        "from sklearn.svm import SVC\n",
        "import warnings\n",
        "warnings.filterwarnings('ignore')"
      ],
      "execution_count": 0,
      "outputs": []
    },
    {
      "cell_type": "markdown",
      "metadata": {
        "id": "w9S8GAZqyeEX",
        "colab_type": "text"
      },
      "source": [
        "#Exploratory Data Analysis."
      ]
    },
    {
      "cell_type": "code",
      "metadata": {
        "id": "YzEORn6mJ7_r",
        "colab_type": "code",
        "colab": {}
      },
      "source": [
        "rankings=pd.read_csv('fifa_ranking.csv')"
      ],
      "execution_count": 0,
      "outputs": []
    },
    {
      "cell_type": "code",
      "metadata": {
        "id": "bvp0J_OKKlUm",
        "colab_type": "code",
        "colab": {}
      },
      "source": [
        "results=pd.read_csv('results.csv')"
      ],
      "execution_count": 0,
      "outputs": []
    },
    {
      "cell_type": "code",
      "metadata": {
        "id": "ICs4Ih00K0RN",
        "colab_type": "code",
        "colab": {}
      },
      "source": [
        "rankings.head(6)"
      ],
      "execution_count": 0,
      "outputs": []
    },
    {
      "cell_type": "code",
      "metadata": {
        "id": "87aLe9WfK6E2",
        "colab_type": "code",
        "colab": {}
      },
      "source": [
        "results.head(6)"
      ],
      "execution_count": 0,
      "outputs": []
    },
    {
      "cell_type": "code",
      "metadata": {
        "id": "MqMz_kR4Llc1",
        "colab_type": "code",
        "colab": {}
      },
      "source": [
        "rankings.columns"
      ],
      "execution_count": 0,
      "outputs": []
    },
    {
      "cell_type": "code",
      "metadata": {
        "id": "IoRQsf5VLbw-",
        "colab_type": "code",
        "colab": {}
      },
      "source": [
        "results.columns"
      ],
      "execution_count": 0,
      "outputs": []
    },
    {
      "cell_type": "code",
      "metadata": {
        "id": "YsOq0MjULvL6",
        "colab_type": "code",
        "colab": {}
      },
      "source": [
        "rankings.info()"
      ],
      "execution_count": 0,
      "outputs": []
    },
    {
      "cell_type": "code",
      "metadata": {
        "id": "TUBHDfALyNtK",
        "colab_type": "code",
        "colab": {}
      },
      "source": [
        "results.info()"
      ],
      "execution_count": 0,
      "outputs": []
    },
    {
      "cell_type": "code",
      "metadata": {
        "id": "vfUkdMpZyNqz",
        "colab_type": "code",
        "colab": {}
      },
      "source": [
        ""
      ],
      "execution_count": 0,
      "outputs": []
    }
  ]
}